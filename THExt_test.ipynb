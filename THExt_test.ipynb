{
 "cells": [
  {
   "cell_type": "markdown",
   "id": "afd33721",
   "metadata": {},
   "source": [
    "## Import required packages"
   ]
  },
  {
   "cell_type": "code",
   "execution_count": 24,
   "id": "34bdceac",
   "metadata": {},
   "outputs": [],
   "source": [
    "from thext import SentenceRankerPlus\n",
    "from thext import RedundancyManager\n",
    "from thext import Highlighter"
   ]
  },
  {
   "cell_type": "code",
   "execution_count": 25,
   "id": "f088656a",
   "metadata": {},
   "outputs": [
    {
     "name": "stderr",
     "output_type": "stream",
     "text": [
      "2022-07-13 08:29:37,230 - root - INFO: Trainer - initializing trainer\n",
      "2022-07-13 08:29:37,243 - root - INFO: 0\n",
      "2022-07-13 08:29:37,244 - root - INFO: <class 'int'>\n",
      "2022-07-13 08:29:37,261 - root - INFO: 0\n",
      "2022-07-13 08:29:37,261 - root - INFO: <class 'int'>\n"
     ]
    }
   ],
   "source": [
    "base_model_name = \"morenolq/thext-cs-scibert\"\n",
    "model_name_or_path = \"morenolq/thext-cs-scibert\"\n",
    "\n",
    "sr = SentenceRankerPlus()\n",
    "sr.load_model(base_model_name=base_model_name, model_name_or_path=model_name_or_path)\n",
    "h = Highlighter(sr)"
   ]
  },
  {
   "cell_type": "code",
   "execution_count": 26,
   "id": "e0a17e4e",
   "metadata": {},
   "outputs": [],
   "source": [
    "sentences = [\n",
    "    \"We propose a new approach, based on Transformer-based encoding, to highlight extraction. To the best of our knowledge, this is the first attempt to use transformer architectures to address automatic highlight generation.\", \n",
    "    \"We design a context-aware sentence-level regressor, in which the semantic similarity between candidate sentences and highlights is estimated by also attending the contextual knowledge provided by the other paper sections.\",\n",
    "    \"Fig. 2, Fig. 3, Fig. 4 show the effect of varying the number K of selected highlights on the extraction performance. As expected, recall values increase while increasing the number of selected highlights, whereas precision values show an opposite trend.\",\n",
    "]\n",
    "abstract = \"Highlights are short sentences used to annotate scientific papers. They complement the abstract content by conveying the main result findings. To automate the process of paper annotation, highlights extraction aims at extracting from 3 to 5 paper sentences via supervised learning. Existing approaches rely on ad hoc linguistic features, which depend on the analyzed context, and apply recurrent neural networks, which are not effective in learning long-range text dependencies. This paper leverages the attention mechanism adopted in transformer models to improve the accuracy of sentence relevance estimation. Unlike existing approaches, it relies on the end-to-end training of a deep regression model. To attend patterns relevant to highlights content it also enriches sentence encodings with a section-level contextualization. The experimental results, achieved on three different benchmark datasets, show that the designed architecture is able to achieve significant performance improvements compared to the state-of-the-art.\"\n",
    "\n",
    "num_highlights = 1"
   ]
  },
  {
   "cell_type": "code",
   "execution_count": 27,
   "id": "dcb1b4e2",
   "metadata": {},
   "outputs": [
    {
     "name": "stdout",
     "output_type": "stream",
     "text": [
      "0\tWe propose a new approach, based on Transformer-based encoding, to highlight extraction. To the best of our knowledge, this is the first attempt to use transformer architectures to address automatic highlight generation.\n"
     ]
    }
   ],
   "source": [
    "highlights = h.get_highlights_simple(sentences, abstract,\n",
    "                rel_w=1.0, \n",
    "                pos_w=0.0, \n",
    "                red_w=0.0, \n",
    "                prefilter=False, \n",
    "                NH = num_highlights)\n",
    "\n",
    "for i, h in enumerate(highlights):\n",
    "    print (f\"{i}\\t{h}\")"
   ]
  }
 ],
 "metadata": {
  "kernelspec": {
   "display_name": "TSOAI",
   "language": "python",
   "name": "tsoai"
  },
  "language_info": {
   "codemirror_mode": {
    "name": "ipython",
    "version": 3
   },
   "file_extension": ".py",
   "mimetype": "text/x-python",
   "name": "python",
   "nbconvert_exporter": "python",
   "pygments_lexer": "ipython3",
   "version": "3.8.13"
  }
 },
 "nbformat": 4,
 "nbformat_minor": 5
}
