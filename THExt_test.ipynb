{
 "cells": [
  {
   "cell_type": "markdown",
   "id": "afd33721",
   "metadata": {},
   "source": [
    "## Import required packages"
   ]
  },
  {
   "cell_type": "code",
   "execution_count": null,
   "id": "8ea92df0",
   "metadata": {},
   "outputs": [],
   "source": [
    "from huggingface_hub import notebook_login\n",
    "\n",
    "notebook_login()"
   ]
  },
  {
   "cell_type": "code",
   "execution_count": null,
   "id": "39d1c891",
   "metadata": {},
   "outputs": [],
   "source": [
    "from Thext.utils.train import train\n",
    "\n",
    "train('Datasets/dataset_task2.csv', \"checkpoint\", True)"
   ]
  },
  {
   "cell_type": "code",
   "execution_count": null,
   "id": "05f4f7ab",
   "metadata": {},
   "outputs": [],
   "source": [
    "from Thext.utils.test import test_models\n",
    "\n",
    "test_models(\"task1\",method=\"trigram_block\")"
   ]
  }
 ],
 "metadata": {
  "kernelspec": {
   "display_name": "nlp",
   "language": "python",
   "name": "python3"
  },
  "language_info": {
   "codemirror_mode": {
    "name": "ipython",
    "version": 3
   },
   "file_extension": ".py",
   "mimetype": "text/x-python",
   "name": "python",
   "nbconvert_exporter": "python",
   "pygments_lexer": "ipython3",
   "version": "3.10.6"
  },
  "vscode": {
   "interpreter": {
    "hash": "bbeba83c50d47a53bb82efa81f571aa7cf39e276676cb2f01ccb60c935fcd0bc"
   }
  }
 },
 "nbformat": 4,
 "nbformat_minor": 5
}
